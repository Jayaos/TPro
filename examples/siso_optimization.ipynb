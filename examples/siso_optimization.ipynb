{
 "cells": [
  {
   "cell_type": "code",
   "execution_count": null,
   "id": "aaa808ca",
   "metadata": {
    "vscode": {
     "languageId": "plaintext"
    }
   },
   "outputs": [],
   "source": [
    "from utils.siso_optimization import *\n",
    "from ipywidgets import interact, Dropdown\n",
    "from google.colab import output\n",
    "output.enable_custom_widget_manager()"
   ]
  },
  {
   "cell_type": "markdown",
   "id": "5b8cbae5",
   "metadata": {},
   "source": [
    "## "
   ]
  },
  {
   "cell_type": "code",
   "execution_count": null,
   "id": "b69dbd3c",
   "metadata": {
    "vscode": {
     "languageId": "plaintext"
    }
   },
   "outputs": [],
   "source": [
    "interact(plot_tf,\n",
    "         tf_name=Dropdown(options=TF_names, description=\"Select TF:\"),\n",
    "         rbs_name=Dropdown(options=RBS_names, description=\"Select RBS:\"),\n",
    "         UI_EU_IN=(1.0, 1700.0, 1.0))"
   ]
  }
 ],
 "metadata": {
  "language_info": {
   "name": "python"
  }
 },
 "nbformat": 4,
 "nbformat_minor": 5
}
