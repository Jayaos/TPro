{
 "cells": [
  {
   "cell_type": "markdown",
   "id": "9d00b85f",
   "metadata": {},
   "source": [
    "## Colab environment setup"
   ]
  },
  {
   "cell_type": "code",
   "execution_count": null,
   "id": "247bba59",
   "metadata": {
    "vscode": {
     "languageId": "plaintext"
    }
   },
   "outputs": [],
   "source": [
    "!git clone https://github.com/Jayaos/Tpro"
   ]
  },
  {
   "cell_type": "code",
   "execution_count": null,
   "id": "842c273f",
   "metadata": {
    "vscode": {
     "languageId": "plaintext"
    }
   },
   "outputs": [],
   "source": [
    "%cd /content/Tpro/\n",
    "!pwd"
   ]
  },
  {
   "cell_type": "code",
   "execution_count": null,
   "id": "02d58e22",
   "metadata": {
    "vscode": {
     "languageId": "plaintext"
    }
   },
   "outputs": [],
   "source": [
    "from utils.siso_optimization import *\n",
    "from ipywidgets import interact, Dropdown\n",
    "from google.colab import output\n",
    "output.enable_custom_widget_manager()"
   ]
  },
  {
   "cell_type": "markdown",
   "id": "5b8cbae5",
   "metadata": {},
   "source": [
    "## "
   ]
  },
  {
   "cell_type": "code",
   "execution_count": null,
   "id": "b69dbd3c",
   "metadata": {
    "vscode": {
     "languageId": "plaintext"
    }
   },
   "outputs": [],
   "source": [
    "interact(plot_tf,\n",
    "         tf_name=Dropdown(options=TF_names, description=\"Select TF:\"),\n",
    "         rbs_name=Dropdown(options=RBS_names, description=\"Select RBS:\"),\n",
    "         UI_EU_IN=(1.0, 1700.0, 1.0))"
   ]
  }
 ],
 "metadata": {
  "language_info": {
   "name": "python"
  }
 },
 "nbformat": 4,
 "nbformat_minor": 5
}
