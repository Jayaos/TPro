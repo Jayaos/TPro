{
  "cells": [
    {
      "cell_type": "markdown",
      "id": "a3de0718",
      "metadata": {
        "id": "a3de0718"
      },
      "source": [
        "## Colab environment setup"
      ]
    },
    {
      "cell_type": "code",
      "execution_count": null,
      "id": "d8a78401",
      "metadata": {
        "vscode": {
          "languageId": "plaintext"
        },
        "id": "d8a78401"
      },
      "outputs": [],
      "source": [
        "!git clone https://github.com/Jayaos/Tpro"
      ]
    },
    {
      "cell_type": "code",
      "execution_count": null,
      "id": "6626aa20",
      "metadata": {
        "vscode": {
          "languageId": "plaintext"
        },
        "id": "6626aa20"
      },
      "outputs": [],
      "source": [
        "!pip install matplotlib==3.8.3\n",
        "!pip install networkx==3.2.1\n",
        "!pip install numpy==1.26.4\n",
        "!pip install pandas==2.2.1\n",
        "!pip install scipy==1.12.0\n",
        "!pip install tqdm==4.66.2"
      ]
    },
    {
      "cell_type": "code",
      "execution_count": null,
      "id": "2dfab8d8",
      "metadata": {
        "vscode": {
          "languageId": "plaintext"
        },
        "id": "2dfab8d8"
      },
      "outputs": [],
      "source": [
        "%cd /content/Tpro/\n",
        "!pwd"
      ]
    },
    {
      "cell_type": "markdown",
      "id": "8faca467",
      "metadata": {
        "id": "8faca467"
      },
      "source": [
        "## Enumeration example"
      ]
    },
    {
      "cell_type": "markdown",
      "id": "5a531c46",
      "metadata": {
        "id": "5a531c46"
      },
      "source": [
        "In this example, we implemented enumeration on the condition of (1 constitutive promotor, 0 regulating promotor), (1 constitutive promotor, 1 regulating promotor), and (2 constitutive promotors, 0 regulating promotor)."
      ]
    },
    {
      "cell_type": "markdown",
      "id": "f9382617",
      "metadata": {
        "id": "f9382617"
      },
      "source": [
        "from utils.search_run import *"
      ]
    },
    {
      "cell_type": "code",
      "execution_count": null,
      "id": "472334a3",
      "metadata": {
        "vscode": {
          "languageId": "plaintext"
        },
        "id": "472334a3"
      },
      "outputs": [],
      "source": [
        "search_circuit_recursive_run(1, 0, \"/content/Tpro/examples/results/\", partial_save=None)"
      ]
    },
    {
      "cell_type": "code",
      "execution_count": null,
      "id": "4b11dd23",
      "metadata": {
        "vscode": {
          "languageId": "plaintext"
        },
        "id": "4b11dd23"
      },
      "outputs": [],
      "source": [
        "search_circuit_recursive_run(1, 1, \"/content/Tpro/examples/results/\", partial_save=None)"
      ]
    },
    {
      "cell_type": "code",
      "execution_count": null,
      "id": "3f7e01db",
      "metadata": {
        "vscode": {
          "languageId": "plaintext"
        },
        "id": "3f7e01db"
      },
      "outputs": [],
      "source": [
        "search_circuit_recursive_run(2, 0, \"/content/Tpro/examples/results/\", partial_save=None)"
      ]
    },
    {
      "cell_type": "markdown",
      "id": "43e02770",
      "metadata": {
        "id": "43e02770"
      },
      "source": [
        "Each search circuit results are saved as dictionary with a format of {input logic string : csr format of matrix representation of the circuit}"
      ]
    },
    {
      "cell_type": "code",
      "execution_count": null,
      "id": "ce517bbb",
      "metadata": {
        "vscode": {
          "languageId": "plaintext"
        },
        "id": "ce517bbb"
      },
      "outputs": [],
      "source": [
        "results_1c0ch = load_data(\"/content/Tpro/examples/results/1c0ch.pkl\")"
      ]
    },
    {
      "cell_type": "code",
      "execution_count": null,
      "id": "e8b5894a",
      "metadata": {
        "vscode": {
          "languageId": "plaintext"
        },
        "id": "e8b5894a"
      },
      "outputs": [],
      "source": [
        "results_1c0ch.items()"
      ]
    },
    {
      "cell_type": "markdown",
      "id": "a450cdfb",
      "metadata": {
        "id": "a450cdfb"
      },
      "source": [
        "csr represenation can be converted into circuit representation using csr_to_circuit_string() function"
      ]
    },
    {
      "cell_type": "code",
      "execution_count": null,
      "id": "a4000788",
      "metadata": {
        "vscode": {
          "languageId": "plaintext"
        },
        "id": "a4000788"
      },
      "outputs": [],
      "source": [
        "csr_to_circuit_string(results_1c0ch[\"00000000\"])"
      ]
    }
  ],
  "metadata": {
    "language_info": {
      "name": "python"
    },
    "colab": {
      "provenance": []
    },
    "kernelspec": {
      "name": "python3",
      "display_name": "Python 3"
    }
<<<<<<< HEAD
   },
   "outputs": [],
   "source": [
    "!pip install matplotlib==3.8.3\n",
    "!pip install networkx==3.2.1\n",
    "!pip install pandas==2.2.1 \n",
    "!pip install scipy==1.12.0\n",
    "!pip install tqdm==4.66.2"
   ]
  },
  {
   "cell_type": "code",
   "execution_count": null,
   "id": "2dfab8d8",
   "metadata": {
    "vscode": {
     "languageId": "plaintext"
    }
   },
   "outputs": [],
   "source": [
    "%cd /content/Tpro/\n",
    "!pwd"
   ]
  },
  {
   "cell_type": "markdown",
   "id": "8faca467",
   "metadata": {},
   "source": [
    "## Enumeration example"
   ]
  },
  {
   "cell_type": "markdown",
   "id": "5a531c46",
   "metadata": {},
   "source": [
    "In this example, we enumerated circuits under three specific conditions: (1 constitutive promoter, 0 regulating promoter), (1 constitutive promoter, 1 regulating promoter), and (2 constitutive promoters, 0 regulating promoter). These conditions were chosen because they required the least computational time for enumeration."
   ]
  },
  {
   "cell_type": "code",
   "execution_count": null,
   "id": "839aed96",
   "metadata": {
    "vscode": {
     "languageId": "plaintext"
    }
   },
   "outputs": [],
   "source": [
    "from utils.search_run import *"
   ]
  },
  {
   "cell_type": "markdown",
   "id": "78d6fb3c",
   "metadata": {},
   "source": [
    "### Enumerating circuits under the condition of (1 constitutive promoter, 0 regulating promoter)"
   ]
  },
  {
   "cell_type": "code",
   "execution_count": null,
   "id": "472334a3",
   "metadata": {
    "vscode": {
     "languageId": "plaintext"
    }
   },
   "outputs": [],
   "source": [
    "search_circuit_recursive_run(1, 0, \"/content/Tpro/examples/results/\", partial_save=None)"
   ]
  },
  {
   "cell_type": "markdown",
   "id": "6094b985",
   "metadata": {},
   "source": [
    "### Enumerating circuits under the condition of (1 constitutive promoter, 1 regulating promoter)"
   ]
  },
  {
   "cell_type": "code",
   "execution_count": null,
   "id": "4b11dd23",
   "metadata": {
    "vscode": {
     "languageId": "plaintext"
    }
   },
   "outputs": [],
   "source": [
    "search_circuit_recursive_run(1, 1, \"/content/Tpro/examples/results/\", partial_save=None)"
   ]
  },
  {
   "cell_type": "markdown",
   "id": "8534daf9",
   "metadata": {},
   "source": [
    "### Enumerating circuits under the condition of (2 constitutive promoters, 0 regulating promoter)"
   ]
  },
  {
   "cell_type": "code",
   "execution_count": null,
   "id": "3f7e01db",
   "metadata": {
    "vscode": {
     "languageId": "plaintext"
    }
   },
   "outputs": [],
   "source": [
    "search_circuit_recursive_run(2, 0, \"/content/Tpro/examples/results/\", partial_save=None)"
   ]
  },
  {
   "cell_type": "markdown",
   "id": "43e02770",
   "metadata": {},
   "source": [
    "Each search result is stored as a dictionary with the format: {input logic string : CSR matrix representation of the circuit}. For example, we found circuits corresponding to three input logic string 00000000, 11101000, and 00010111 under the condition of (1 constitutive promoter, 0 regulating promoter)"
   ]
  },
  {
   "cell_type": "code",
   "execution_count": null,
   "id": "349fc294",
   "metadata": {
    "vscode": {
     "languageId": "plaintext"
    }
   },
   "outputs": [],
   "source": [
    "from utils.utils import *"
   ]
  },
  {
   "cell_type": "code",
   "execution_count": null,
   "id": "9fa4a812",
   "metadata": {
    "vscode": {
     "languageId": "plaintext"
    }
   },
   "outputs": [],
   "source": [
    "results_1c0ch = load_data(\"/content/Tpro/examples/results/1c0ch.pkl\")\n",
    "results_1c0ch.items()"
   ]
  },
  {
   "cell_type": "markdown",
   "id": "a450cdfb",
   "metadata": {},
   "source": [
    "The CSR representation can be converted back into a circuit format using the csr_to_circuit_string() function."
   ]
  },
  {
   "cell_type": "code",
   "execution_count": null,
   "id": "a4000788",
   "metadata": {
    "vscode": {
     "languageId": "plaintext"
    }
   },
   "outputs": [],
   "source": [
    "csr_to_circuit_string(results_1c0ch[\"00000000\"])"
   ]
  },
  {
   "cell_type": "markdown",
   "id": "810a1f6f",
   "metadata": {},
   "source": [
    "Since we aim to find the circuits containing the least number of transcriptional factors for each input logic string, we need to merge the search results "
   ]
  },
  {
   "cell_type": "markdown",
   "id": "5f23d8ad",
   "metadata": {},
   "source": [
    "import pandas as pd"
   ]
  },
  {
   "cell_type": "code",
   "execution_count": null,
   "id": "99829ccb",
   "metadata": {
    "vscode": {
     "languageId": "plaintext"
    }
   },
   "outputs": [],
   "source": [
    "merged_circuits, merged_circuit_desc = merge_circuit_search_results(\"/content/Tpro/examples/results/\")"
   ]
  },
  {
   "cell_type": "code",
   "execution_count": null,
   "id": "2dab70dc",
   "metadata": {
    "vscode": {
     "languageId": "plaintext"
    }
   },
   "outputs": [],
   "source": [
    "merged_dict_to_table(merged_circuits, merged_circuit_desc)"
   ]
  }
 ],
 "metadata": {
  "language_info": {
   "name": "python"
  }
 },
 "nbformat": 4,
 "nbformat_minor": 5
}
=======
  },
  "nbformat": 4,
  "nbformat_minor": 5
}
>>>>>>> fb19cda87fa7e72cd6cc2d9cf547c462f3b25260
