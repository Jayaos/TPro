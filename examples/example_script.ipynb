{
 "cells": [
  {
   "cell_type": "markdown",
   "id": "a3de0718",
   "metadata": {},
   "source": [
    "## Colab environment setup"
   ]
  },
  {
   "cell_type": "code",
   "execution_count": null,
   "id": "d8a78401",
   "metadata": {
    "vscode": {
     "languageId": "plaintext"
    }
   },
   "outputs": [],
   "source": [
    "!git clone https://github.com/Jayaos/Tpro"
   ]
  },
  {
   "cell_type": "code",
   "execution_count": null,
   "id": "6626aa20",
   "metadata": {
    "vscode": {
     "languageId": "plaintext"
    }
   },
   "outputs": [],
   "source": [
    "!pip install matplotlib==3.8.3\n",
    "!pip install networkx==3.2.1\n",
    "!pip install numpy==1.26.4\n",
    "!pip install pandas==2.2.1 \n",
    "!pip install scipy==1.12.0\n",
    "!pip install tqdm==4.66.2"
   ]
  },
  {
   "cell_type": "code",
   "execution_count": null,
   "id": "2dfab8d8",
   "metadata": {
    "vscode": {
     "languageId": "plaintext"
    }
   },
   "outputs": [],
   "source": [
    "%cd /content/Tpro/\n",
    "!pwd"
   ]
  },
  {
   "cell_type": "code",
   "execution_count": null,
   "id": "6c13c39f",
   "metadata": {
    "vscode": {
     "languageId": "plaintext"
    }
   },
   "outputs": [],
   "source": []
  },
  {
   "cell_type": "code",
   "execution_count": null,
   "id": "472334a3",
   "metadata": {
    "vscode": {
     "languageId": "plaintext"
    }
   },
   "outputs": [],
   "source": []
  }
 ],
 "metadata": {
  "language_info": {
   "name": "python"
  }
 },
 "nbformat": 4,
 "nbformat_minor": 5
}
