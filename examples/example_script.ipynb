{
 "cells": [
  {
   "cell_type": "markdown",
   "id": "a3de0718",
   "metadata": {},
   "source": [
    "## Colab environment setup"
   ]
  },
  {
   "cell_type": "code",
   "execution_count": null,
   "id": "d8a78401",
   "metadata": {
    "vscode": {
     "languageId": "plaintext"
    }
   },
   "outputs": [],
   "source": [
    "!git clone https://github.com/Jayaos/Tpro"
   ]
  },
  {
   "cell_type": "code",
   "execution_count": null,
   "id": "6626aa20",
   "metadata": {
    "vscode": {
     "languageId": "plaintext"
    }
   },
   "outputs": [],
   "source": [
    "!pip install matplotlib==3.8.3\n",
    "!pip install networkx==3.2.1\n",
    "!pip install numpy==1.26.4\n",
    "!pip install pandas==2.2.1 \n",
    "!pip install scipy==1.12.0\n",
    "!pip install tqdm==4.66.2"
   ]
  },
  {
   "cell_type": "code",
   "execution_count": null,
   "id": "2dfab8d8",
   "metadata": {
    "vscode": {
     "languageId": "plaintext"
    }
   },
   "outputs": [],
   "source": [
    "%cd /content/Tpro/\n",
    "!pwd"
   ]
  },
  {
   "cell_type": "markdown",
   "id": "8faca467",
   "metadata": {},
   "source": [
    "## Enumeration example"
   ]
  },
  {
   "cell_type": "markdown",
   "id": "5a531c46",
   "metadata": {},
   "source": [
    "In this example, we implemented enumeration on the condition of (1 constitutive promotor, 0 regulating promotor), (1 constitutive promotor, 1 regulating promotor), and (2 constitutive promotors, 0 regulating promotor)."
   ]
  },
  {
   "cell_type": "markdown",
   "id": "f9382617",
   "metadata": {},
   "source": [
    "from utils.search_run import *"
   ]
  },
  {
   "cell_type": "code",
   "execution_count": null,
   "id": "472334a3",
   "metadata": {
    "vscode": {
     "languageId": "plaintext"
    }
   },
   "outputs": [],
   "source": [
    "search_circuit_recursive_run(1, 0, \"/content/Tpro/examples/results/\")"
   ]
  },
  {
   "cell_type": "code",
   "execution_count": null,
   "id": "4b11dd23",
   "metadata": {
    "vscode": {
     "languageId": "plaintext"
    }
   },
   "outputs": [],
   "source": [
    "search_circuit_recursive_run(1, 1, \"/content/Tpro/examples/results/\")"
   ]
  },
  {
   "cell_type": "code",
   "execution_count": null,
   "id": "3f7e01db",
   "metadata": {
    "vscode": {
     "languageId": "plaintext"
    }
   },
   "outputs": [],
   "source": [
    "search_circuit_recursive_run(2, 0, \"/content/Tpro/examples/results/\")"
   ]
  },
  {
   "cell_type": "markdown",
   "id": "43e02770",
   "metadata": {},
   "source": [
    "Each search circuit results are saved as dictionary with a format of {input logic string : csr format of matrix representation of the circuit}"
   ]
  },
  {
   "cell_type": "code",
   "execution_count": null,
   "id": "ce517bbb",
   "metadata": {
    "vscode": {
     "languageId": "plaintext"
    }
   },
   "outputs": [],
   "source": [
    "results_1c0ch = load_data(\"/content/Tpro/examples/results/1c0ch.pkl\")"
   ]
  },
  {
   "cell_type": "code",
   "execution_count": null,
   "id": "e8b5894a",
   "metadata": {
    "vscode": {
     "languageId": "plaintext"
    }
   },
   "outputs": [],
   "source": [
    "results_1c0ch.items()"
   ]
  },
  {
   "cell_type": "markdown",
   "id": "a450cdfb",
   "metadata": {},
   "source": [
    "csr represenation can be converted into circuit representation using csr_to_circuit_string() function"
   ]
  },
  {
   "cell_type": "code",
   "execution_count": null,
   "id": "a4000788",
   "metadata": {
    "vscode": {
     "languageId": "plaintext"
    }
   },
   "outputs": [],
   "source": [
    "csr_to_circuit_string(results_1c0ch[\"00000000\"])"
   ]
  }
 ],
 "metadata": {
  "language_info": {
   "name": "python"
  }
 },
 "nbformat": 4,
 "nbformat_minor": 5
}
